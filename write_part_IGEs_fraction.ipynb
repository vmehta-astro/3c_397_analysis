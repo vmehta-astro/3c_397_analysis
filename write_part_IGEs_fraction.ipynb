{
 "cells": [
  {
   "cell_type": "code",
   "execution_count": 1,
   "id": "956084bd",
   "metadata": {},
   "outputs": [],
   "source": [
    "import numpy as np\n",
    "import pandas as pd\n",
    "import glob\n",
    "\n",
    "\n",
    "files = glob.glob(\"../HIGH_DEN_DEF_21/out_*\" + \"_decayed.dat\")\n",
    "files.sort()\n",
    "\n",
    "Fe_array = []\n",
    "Mn_array = []\n",
    "Cr_array = []\n",
    "Ni_array = []\n",
    "\n",
    "\n",
    "for file in files:\n",
    "\n",
    "    data = pd.read_csv(file,\n",
    "                       sep = \"\\s+\",\n",
    "                       usecols = [0,1,2,4],\n",
    "                       names = [\"z_num\", \"baryon_num\", \"mass_fraction\", \"species_name\"])\n",
    "    \n",
    "    Fe = data[data[\"z_num\"] == 26]\n",
    "    Fe_sum = sum(Fe[\"mass_fraction\"])\n",
    "    \n",
    "    Cr = data[data[\"z_num\"] == 24]\n",
    "    Mn53 = Cr[Cr[\"baryon_num\"] == 53]\n",
    "    Cr = Cr.loc[Cr[\"baryon_num\"] != 53]\n",
    "    Cr_sum = sum(Cr[\"mass_fraction\"])\n",
    "    \n",
    "    Mn = data[data[\"z_num\"] == 25]\n",
    "    Mn = pd.concat([Mn,Mn53])\n",
    "    Mn_sum = sum(Mn[\"mass_fraction\"])\n",
    "\n",
    "    \n",
    "    Ni = data[data[\"z_num\"] == 28]\n",
    "    Ni_sum = sum(Ni[\"mass_fraction\"])\n",
    "    \n",
    "#    r1 = Ni_sum/Fe_sum\n",
    "#    r2 = Cr_sum/Fe_sum\n",
    "#    r3 = Mn_sum/Fe_sum\n",
    "    \n",
    "    parts = file.split(\"t_\")\n",
    "    particle_tag = parts[len(parts)-1].split(\"_de\")[0]\n",
    "\n",
    "    particle_tag = int(particle_tag)\n",
    "    with open(\"part_IGEs.dat\",\"a\") as f:\n",
    "        print(data, file = f)\n"
   ]
  },
  {
   "cell_type": "code",
   "execution_count": null,
   "id": "9fcbaf20",
   "metadata": {},
   "outputs": [],
   "source": []
  }
 ],
 "metadata": {
  "kernelspec": {
   "display_name": "Python 3 (ipykernel)",
   "language": "python",
   "name": "python3"
  },
  "language_info": {
   "codemirror_mode": {
    "name": "ipython",
    "version": 3
   },
   "file_extension": ".py",
   "mimetype": "text/x-python",
   "name": "python",
   "nbconvert_exporter": "python",
   "pygments_lexer": "ipython3",
   "version": "3.9.13"
  }
 },
 "nbformat": 4,
 "nbformat_minor": 5
}
