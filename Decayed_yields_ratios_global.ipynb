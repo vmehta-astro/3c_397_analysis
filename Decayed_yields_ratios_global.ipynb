{
 "cells": [
  {
   "cell_type": "code",
   "execution_count": 19,
   "id": "58a1a65a",
   "metadata": {},
   "outputs": [
    {
     "name": "stdout",
     "output_type": "stream",
     "text": [
      "Ni/Fe : 0.9160025936983897\n",
      "Cr/Fe : 0.0012258927539778221\n",
      "Mn/Fe : 0.039288068736967934\n",
      "['out_3333_decayed.dat']\n"
     ]
    }
   ],
   "source": [
    "import numpy as np\n",
    "import pandas as pd\n",
    "import glob\n",
    "\n",
    "\n",
    "files = glob.glob(\"out_*\" + \"_decayed.dat\")\n",
    "files.sort()\n",
    "\n",
    "Fe_array = []\n",
    "Mn_array = []\n",
    "Cr_array = []\n",
    "Ni_array = []\n",
    "\n",
    "\n",
    "for file in files:\n",
    "\n",
    "    data = pd.read_csv(file,\n",
    "                       sep = \"\\s+\",\n",
    "                       usecols = [0,1,2,4],\n",
    "                       names = [\"z_num\", \"baryon_num\", \"mass_fraction\", \"species_name\"])\n",
    "#    S = np.sum(data[\"mass_fraction\"])\n",
    "#    print(S)\n",
    "    \n",
    "    Fe = data[data[\"z_num\"] == 26]\n",
    "#    print(Fe)\n",
    "    Fe_array.append(Fe[\"mass_fraction\"].values)\n",
    "    \n",
    "    Cr = data[data[\"z_num\"] == 24]\n",
    "    Mn53 = Cr[Cr[\"baryon_num\"] == 53]\n",
    "    Cr = Cr.loc[Cr[\"baryon_num\"] != 53]\n",
    "#    print(Cr)\n",
    "    Cr_array.append(Cr[\"mass_fraction\"].values)\n",
    "    \n",
    "    Mn = data[data[\"z_num\"] == 25]\n",
    "    Mn_array.append(Mn[\"mass_fraction\"].values)\n",
    "    Mn_array.append(Mn53[\"mass_fraction\"].values)\n",
    "#    print(Mn)\n",
    "#    print(Mn53)\n",
    "    \n",
    "    Ni = data[data[\"z_num\"] == 28]\n",
    "#    print(Ni)\n",
    "    Ni_array.append(Ni[\"mass_fraction\"].values)\n",
    "    \n",
    "X_Fe = np.sum(Fe_array)/(len(files))\n",
    "X_Mn = np.sum(Mn_array)/(len(files))\n",
    "X_Cr = np.sum(Cr_array)/(len(files))\n",
    "X_Ni = np.sum(Ni_array)/(len(files))\n",
    "\n",
    "r1 = X_Ni/X_Fe\n",
    "r2 = X_Cr/X_Fe\n",
    "r3 = X_Mn/X_Fe\n",
    "\n",
    "print(\"Ni/Fe :\", r1)\n",
    "print(\"Cr/Fe :\", r2)\n",
    "print(\"Mn/Fe :\", r3)\n",
    "\n",
    "\n"
   ]
  },
  {
   "cell_type": "code",
   "execution_count": null,
   "id": "d6a58d99",
   "metadata": {},
   "outputs": [],
   "source": []
  }
 ],
 "metadata": {
  "kernelspec": {
   "display_name": "Python 3.7.13 ('py3.7')",
   "language": "python",
   "name": "python3"
  },
  "language_info": {
   "codemirror_mode": {
    "name": "ipython",
    "version": 3
   },
   "file_extension": ".py",
   "mimetype": "text/x-python",
   "name": "python",
   "nbconvert_exporter": "python",
   "pygments_lexer": "ipython3",
   "version": "3.7.13"
  },
  "vscode": {
   "interpreter": {
    "hash": "49f2297eaf578b5e8dcf51134f7064e843702ece72f85f508df190a81715e424"
   }
  }
 },
 "nbformat": 4,
 "nbformat_minor": 5
}
