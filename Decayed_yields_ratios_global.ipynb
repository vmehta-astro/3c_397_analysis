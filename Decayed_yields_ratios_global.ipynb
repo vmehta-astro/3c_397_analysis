{
 "cells": [
  {
   "cell_type": "code",
   "execution_count": 19,
   "id": "58a1a65a",
   "metadata": {},
   "outputs": [
    {
     "name": "stdout",
     "output_type": "stream",
     "text": [
      "Ni/Fe : 0.9160025936983897\n",
      "Cr/Fe : 0.0012258927539778221\n",
      "Mn/Fe : 0.039288068736967934\n",
      "['out_3333_decayed.dat']\n"
     ]
    }
   ],
   "source": [
    "### Script to to analyze the global abundances ratios of Ni/Fe, Mn/Fe, Cr/Fe and Ti/Fe. ###\n",
    "### We use decayed files from 'TORCH' output files that contains all the stable yields. \n",
    "#Author - Vrutant Mehta (2023)\n",
    "\n",
    "# importing required libraries. \n",
    "import numpy as np\n",
    "import pandas as pd\n",
    "import glob\n",
    "\n",
    "# reading all decayed files and store and sort them.\n",
    "files = glob.glob(\"out_*\" + \"_decayed.dat\")\n",
    "files.sort()\n",
    "\n",
    "#define empty lists that we later use for analysis\n",
    "Fe_array = []\n",
    "Mn_array = []\n",
    "Cr_array = []\n",
    "Ni_array = []\n",
    "Ti_array = []\n",
    "\n",
    "# for loop to get the data from all files\n",
    "for file in files:\n",
    "    \n",
    "    #create dataframe from decayed file\n",
    "    data = pd.read_csv(file,\n",
    "                       sep = \"\\s+\",\n",
    "                       usecols = [0,1,2,4],\n",
    "                       names = [\"z_num\", \"baryon_num\", \"mass_fraction\", \"species_name\"])\n",
    "\n",
    "    Fe = data[data[\"z_num\"] == 26] # Fe has Z (protons) = 26 \n",
    "#    print(Fe)\n",
    "    Fe_array.append(Fe[\"mass_fraction\"].values) # store mass fractions values of Fe species.\n",
    "    \n",
    "    Cr = data[data[\"z_num\"] == 24] # Cr has Z (protons) = 24 \n",
    "    Mn53 = Cr[Cr[\"baryon_num\"] == 53] # Mn53 has not been decayed into final stable Cr53. Cr53 has Z = 24 and baryon number = 53.\n",
    "    Cr = Cr.loc[Cr[\"baryon_num\"] != 53] # remove Mn53 from Cr species, since the age of 3C 397 is < 4 Myrs.\n",
    "#    print(Cr)\n",
    "    Cr_array.append(Cr[\"mass_fraction\"].values) # store mass fraction values of Cr species without Mn53.\n",
    "    \n",
    "    Mn = data[data[\"z_num\"] == 25] # Mn has Z (protons) = 25\n",
    "    Mn_array.append(Mn[\"mass_fraction\"].values + Mn53[\"mass_fraction\"].values) # store mass fraction values of Mn species and Mn53().\n",
    "    #Mn_array.append(Mn53[\"mass_fraction\"].values) #store mass fractions of Mn53. \n",
    "#    print(Mn)\n",
    "#    print(Mn53)\n",
    "\n",
    "    Ni = data[data[\"z_num\"] == 28] # Ni has Z (protons) = 28\n",
    "    Ni59 = data[data[\"z_num\"] == 27] # Ni59 has not been decayed into final stable Co59. It has Z = 27. \n",
    "    #print(Ni59[\"mass_fraction\"].values)\n",
    "    Ni_array.append(Ni[\"mass_fraction\"].values + Ni59[\"mass_fraction\"].values) # store mass fractions of all Ni species as well as Ni59 \n",
    "                                                                               # that is not decayed into stable Co59. \n",
    "\n",
    "    Ti = data[data[\"z_num\"] == 22] # Ti has Z (protons) = 22\n",
    "    Ti_array.append(Ti[\"mass_fraction\"].values) # store mass fractions of Ti species\n",
    "    \n",
    "X_Fe = np.sum(Fe_array)/(len(files)) # sum all Fe and divide that by number of particles to get mean X_Fe.\n",
    "X_Mn = np.sum(Mn_array)/(len(files)) # sum all Mn and divide that by number of particles to get mean X_Mn.\n",
    "X_Cr = np.sum(Cr_array)/(len(files)) # sum all Fe and divide that by number of particles to get mean X_Cr.\n",
    "X_Ni = np.sum(Ni_array)/(len(files)) # sum all Ni and divide that by number of particles to get mean X_Ni.\n",
    "X_Ti = np.sum(Ti_array)/(len(files)) # sum all Ti and divide that by number of particles to get mean X_Ti.\n",
    "\n",
    "# ratios of mean values of each species.\n",
    "r1 = X_Ni/X_Fe\n",
    "r2 = X_Cr/X_Fe\n",
    "r3 = X_Mn/X_Fe\n",
    "r4 = X_Ti/X_Fe\n",
    "\n",
    "# print the ratios.\n",
    "print(\"Ni/Fe :\", r1)\n",
    "print(\"Cr/Fe :\", r2)\n",
    "print(\"Mn/Fe :\", r3)\n",
    "print(\"Ti/Fe :\", r4)\n",
    "\n"
   ]
  },
  {
   "cell_type": "code",
   "execution_count": null,
   "id": "d6a58d99",
   "metadata": {},
   "outputs": [],
   "source": []
  }
 ],
 "metadata": {
  "kernelspec": {
   "display_name": "Python 3.7.13 ('py3.7')",
   "language": "python",
   "name": "python3"
  },
  "language_info": {
   "codemirror_mode": {
    "name": "ipython",
    "version": 3
   },
   "file_extension": ".py",
   "mimetype": "text/x-python",
   "name": "python",
   "nbconvert_exporter": "python",
   "pygments_lexer": "ipython3",
   "version": "3.7.13"
  },
  "vscode": {
   "interpreter": {
    "hash": "49f2297eaf578b5e8dcf51134f7064e843702ece72f85f508df190a81715e424"
   }
  }
 },
 "nbformat": 4,
 "nbformat_minor": 5
}
