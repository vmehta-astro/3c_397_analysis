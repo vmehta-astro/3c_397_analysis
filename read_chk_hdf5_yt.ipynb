{
 "cells": [
  {
   "cell_type": "code",
   "execution_count": null,
   "id": "7f217c1e",
   "metadata": {},
   "outputs": [],
   "source": [
    "import yt\n",
    "import glob\n",
    "import numpy as np\n",
    "import pandas as pd\n",
    "\n",
    "#def binding_energy(field, data):\n",
    "\n",
    "\n",
    "ds = yt.load(\"./def_high_dens_hdf5_chk_000083\")\n",
    "ad = ds.all_data()\n",
    "#for i in sorted(ds.derived_field_list):\n",
    "#    print(i)\n",
    "\n",
    "grav_potential = ad[(\"flash\", \"gpot\")]\n",
    "internal_energy = ad[(\"flash\", \"eint\")]\n",
    "velocity_x = ad[(\"flash\", \"velx\")]\n",
    "velocity_y = ad[(\"flash\", \"vely\")]\n",
    "\n",
    "density = ad[(\"flash\",\"dens\")]\n",
    "cell_volume = ad[(\"flash\", \"cell_volume\")]\n",
    "\n",
    "velocity_magnitude = (np.square(velocity_x) + np.square(velocity_y))\n",
    "\n",
    "binding_energy = (0.5 * velocity_magnitude) + internal_energy + grav_potential\n",
    "indices = np.where(binding_energy > 0)\n",
    "\n",
    "\n",
    "cell_mass = np.array(density) * np.array(cell_volume)\n",
    "mass = np.sum(cell_mass)\n",
    "ejecta_mass = cell_mass[indices].sum()\n",
    "\n",
    "mass_fraction = ejecta_mass / mass\n",
    "#print(len(binding_energy))\n",
    "#print(len(cell_mass))\n",
    "\n",
    "#print(indices)\n",
    "print(\"mass: \", mass)\n",
    "print(\"ejecta mass: \", ejecta_mass)\n",
    "print(\"ejecta mass fraction: \", mass_fraction)\n",
    "                                                                                    1,10          Top"
   ]
  }
 ],
 "metadata": {
  "kernelspec": {
   "display_name": "Python 3 (ipykernel)",
   "language": "python",
   "name": "python3"
  },
  "language_info": {
   "codemirror_mode": {
    "name": "ipython",
    "version": 3
   },
   "file_extension": ".py",
   "mimetype": "text/x-python",
   "name": "python",
   "nbconvert_exporter": "python",
   "pygments_lexer": "ipython3",
   "version": "3.9.13"
  }
 },
 "nbformat": 4,
 "nbformat_minor": 5
}
