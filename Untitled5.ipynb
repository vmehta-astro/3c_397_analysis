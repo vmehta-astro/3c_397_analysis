{
 "cells": [
  {
   "cell_type": "code",
   "execution_count": 1,
   "id": "e9a589e5",
   "metadata": {},
   "outputs": [
    {
     "name": "stdout",
     "output_type": "stream",
     "text": [
      "input AB : 1\n",
      "input BC : 1\n",
      "45\n"
     ]
    }
   ],
   "source": [
    "import math\n",
    "\n",
    "c = int(input(\"input AB : \"))\n",
    "a = int(input(\"input BC : \"))\n",
    "\n",
    "\n",
    "if (a > 0 and a <=100) and (c > 0 and c<=100):\n",
    "    b = ((a*a) + (c*c))**(0.5)\n",
    "    x = b/2\n",
    "    y = b/2\n",
    "    \n",
    "    MBC = round((math.acos(((a*a)+(y*y)-(x*x))/(2*a*y))*(180/3.141)))\n",
    "    \n",
    "    print(MBC)\n",
    "\n",
    "#degree_sign = u\"\\u00b0\"\n",
    "#print(f'{angle_MBC(AB,BC)}{degree_sign}')"
   ]
  },
  {
   "cell_type": "code",
   "execution_count": 2,
   "id": "b8254d57",
   "metadata": {},
   "outputs": [
    {
     "name": "stdout",
     "output_type": "stream",
     "text": [
      "3\n",
      "1\n",
      "22\n"
     ]
    }
   ],
   "source": [
    "n,i= int(input()),1\n",
    "while i < n: print(sum([i*10**(j) for j in range(0,i)])); i = i+1\n",
    "\n"
   ]
  },
  {
   "cell_type": "code",
   "execution_count": 3,
   "id": "f71b8d61",
   "metadata": {},
   "outputs": [
    {
     "name": "stdout",
     "output_type": "stream",
     "text": [
      "4\n",
      "1\n",
      "22\n",
      "333\n"
     ]
    }
   ],
   "source": [
    "\n",
    "for i in range(1,int(input())):\n",
    "    print(int(ascii(1)*i)*i)"
   ]
  },
  {
   "cell_type": "code",
   "execution_count": 19,
   "id": "3ccee242",
   "metadata": {},
   "outputs": [
    {
     "name": "stdout",
     "output_type": "stream",
     "text": [
      "['b', 'a', 'n', 'a', 'n', 'a', 'i', 's', 'g', 'o', 'o', 'd', 'N', 'O']\n"
     ]
    }
   ],
   "source": [
    "def minion_game(string):\n",
    "    obj = str(string)\n",
    "    Kevin = []\n",
    "    Stuart = []\n",
    "    ls = [l for l in obj if l.isalpha()] \n",
    "    con = [j for j in ls if j in ('a', 'e', 'i', 'o', 'u', 'A', 'E', 'I', 'O', 'U')]\n",
    "    vov = [k for k in ls if k not in ('a', 'e', 'i', 'o', 'u', 'A', 'E', 'I', 'O', 'U')]\n",
    "    \n",
    "    for i in ls:\n",
    "        \n",
    "    \n",
    "    \n",
    "    return ls\n",
    "print(minion_game('banana is good, NO!'))\n"
   ]
  },
  {
   "cell_type": "code",
   "execution_count": null,
   "id": "c6b0659a",
   "metadata": {},
   "outputs": [],
   "source": []
  }
 ],
 "metadata": {
  "kernelspec": {
   "display_name": "Python 3 (ipykernel)",
   "language": "python",
   "name": "python3"
  },
  "language_info": {
   "codemirror_mode": {
    "name": "ipython",
    "version": 3
   },
   "file_extension": ".py",
   "mimetype": "text/x-python",
   "name": "python",
   "nbconvert_exporter": "python",
   "pygments_lexer": "ipython3",
   "version": "3.7.12"
  }
 },
 "nbformat": 4,
 "nbformat_minor": 5
}
