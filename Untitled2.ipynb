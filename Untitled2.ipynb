{
 "cells": [
  {
   "cell_type": "code",
   "execution_count": 15,
   "id": "c57ed1b2",
   "metadata": {},
   "outputs": [
    {
     "data": {
      "text/html": [
       "<div>\n",
       "<style scoped>\n",
       "    .dataframe tbody tr th:only-of-type {\n",
       "        vertical-align: middle;\n",
       "    }\n",
       "\n",
       "    .dataframe tbody tr th {\n",
       "        vertical-align: top;\n",
       "    }\n",
       "\n",
       "    .dataframe thead th {\n",
       "        text-align: right;\n",
       "    }\n",
       "</style>\n",
       "<table border=\"1\" class=\"dataframe\">\n",
       "  <thead>\n",
       "    <tr style=\"text-align: right;\">\n",
       "      <th></th>\n",
       "      <th>#time</th>\n",
       "      <th>maximum_density</th>\n",
       "    </tr>\n",
       "  </thead>\n",
       "  <tbody>\n",
       "    <tr>\n",
       "      <th>31365</th>\n",
       "      <td>0.893433</td>\n",
       "      <td>9.997811e+07</td>\n",
       "    </tr>\n",
       "    <tr>\n",
       "      <th>31366</th>\n",
       "      <td>0.893453</td>\n",
       "      <td>9.995311e+07</td>\n",
       "    </tr>\n",
       "    <tr>\n",
       "      <th>31367</th>\n",
       "      <td>0.893473</td>\n",
       "      <td>9.992811e+07</td>\n",
       "    </tr>\n",
       "    <tr>\n",
       "      <th>31368</th>\n",
       "      <td>0.893492</td>\n",
       "      <td>9.990312e+07</td>\n",
       "    </tr>\n",
       "    <tr>\n",
       "      <th>31369</th>\n",
       "      <td>0.893512</td>\n",
       "      <td>9.987813e+07</td>\n",
       "    </tr>\n",
       "    <tr>\n",
       "      <th>...</th>\n",
       "      <td>...</td>\n",
       "      <td>...</td>\n",
       "    </tr>\n",
       "    <tr>\n",
       "      <th>92351</th>\n",
       "      <td>2.740022</td>\n",
       "      <td>1.058268e+05</td>\n",
       "    </tr>\n",
       "    <tr>\n",
       "      <th>92352</th>\n",
       "      <td>2.740063</td>\n",
       "      <td>1.058204e+05</td>\n",
       "    </tr>\n",
       "    <tr>\n",
       "      <th>92353</th>\n",
       "      <td>2.740105</td>\n",
       "      <td>1.058141e+05</td>\n",
       "    </tr>\n",
       "    <tr>\n",
       "      <th>92354</th>\n",
       "      <td>2.740147</td>\n",
       "      <td>1.058077e+05</td>\n",
       "    </tr>\n",
       "    <tr>\n",
       "      <th>92355</th>\n",
       "      <td>2.740189</td>\n",
       "      <td>1.058014e+05</td>\n",
       "    </tr>\n",
       "  </tbody>\n",
       "</table>\n",
       "<p>60991 rows × 2 columns</p>\n",
       "</div>"
      ],
      "text/plain": [
       "          #time  maximum_density\n",
       "31365  0.893433     9.997811e+07\n",
       "31366  0.893453     9.995311e+07\n",
       "31367  0.893473     9.992811e+07\n",
       "31368  0.893492     9.990312e+07\n",
       "31369  0.893512     9.987813e+07\n",
       "...         ...              ...\n",
       "92351  2.740022     1.058268e+05\n",
       "92352  2.740063     1.058204e+05\n",
       "92353  2.740105     1.058141e+05\n",
       "92354  2.740147     1.058077e+05\n",
       "92355  2.740189     1.058014e+05\n",
       "\n",
       "[60991 rows x 2 columns]"
      ]
     },
     "execution_count": 15,
     "metadata": {},
     "output_type": "execute_result"
    }
   ],
   "source": [
    "import pandas as pd\n",
    "import glob\n",
    "\n",
    "file = glob.glob(\"../ddt_off.dat\")\n",
    "\n",
    "data = pd.read_csv(\"../ddt_off.dat\", sep = \"\\s+\", usecols = [\"#time\", \"maximum_density\"])\n",
    "data = data[data.maximum_density <= 1.0e8]\n",
    "data"
   ]
  },
  {
   "cell_type": "code",
   "execution_count": 8,
   "id": "6fe4312c",
   "metadata": {},
   "outputs": [
    {
     "name": "stdout",
     "output_type": "stream",
     "text": [
      "tempdens0556.dat\n"
     ]
    }
   ],
   "source": []
  },
  {
   "cell_type": "code",
   "execution_count": null,
   "id": "9b4bda99",
   "metadata": {},
   "outputs": [],
   "source": []
  }
 ],
 "metadata": {
  "kernelspec": {
   "display_name": "Python 3 (ipykernel)",
   "language": "python",
   "name": "python3"
  },
  "language_info": {
   "codemirror_mode": {
    "name": "ipython",
    "version": 3
   },
   "file_extension": ".py",
   "mimetype": "text/x-python",
   "name": "python",
   "nbconvert_exporter": "python",
   "pygments_lexer": "ipython3",
   "version": "3.9.13"
  }
 },
 "nbformat": 4,
 "nbformat_minor": 5
}
