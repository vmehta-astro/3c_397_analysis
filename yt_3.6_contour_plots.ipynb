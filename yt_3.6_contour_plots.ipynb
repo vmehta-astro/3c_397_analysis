{
 "cells": [
  {
   "cell_type": "code",
   "execution_count": 7,
   "id": "7154a749",
   "metadata": {},
   "outputs": [
    {
     "name": "stderr",
     "output_type": "stream",
     "text": [
      "yt : [WARNING  ] 2023-03-17 19:53:50,666 The iron_clumps particle filter already exists. Overriding.\n",
      "yt : [INFO     ] 2023-03-17 19:53:50,672 Particle file found: def_high_dens_hdf5_chk_000021\n",
      "yt : [WARNING  ] 2023-03-17 19:53:50,685 Extending theta dimension to 2PI + left edge.\n",
      "yt : [INFO     ] 2023-03-17 19:53:50,693 Parameters: current_time              = 2.100037265112491\n",
      "yt : [INFO     ] 2023-03-17 19:53:50,694 Parameters: domain_dimensions         = [ 64 128   1]\n",
      "yt : [INFO     ] 2023-03-17 19:53:50,694 Parameters: domain_left_edge          = [ 0.00000e+00 -1.31072e+10  0.00000e+00]\n",
      "yt : [INFO     ] 2023-03-17 19:53:50,695 Parameters: domain_right_edge         = [1.31072000e+10 1.31072000e+10 6.28318531e+00]\n",
      "yt : [INFO     ] 2023-03-17 19:53:50,695 Parameters: cosmological_simulation   = 0.0\n",
      "yt : [WARNING  ] 2023-03-17 19:53:51,317 In cylindrical geometry, gradient fields may contain artifacts near cartesian axes.\n",
      "yt : [WARNING  ] 2023-03-17 19:53:51,317 In cylindrical geometry, gradient fields may contain artifacts near cartesian axes.\n"
     ]
    },
    {
     "ename": "AttributeError",
     "evalue": "'FLASHDataset' object has no attribute 'add_nearest_neighbor_field'",
     "output_type": "error",
     "traceback": [
      "\u001b[0;31m---------------------------------------------------------------------------\u001b[0m",
      "\u001b[0;31mAttributeError\u001b[0m                            Traceback (most recent call last)",
      "\u001b[0;32m/var/folders/r5/dxg81dc92yg8w0k1htvtflc00000gn/T/ipykernel_58131/312845830.py\u001b[0m in \u001b[0;36m<module>\u001b[0;34m\u001b[0m\n\u001b[1;32m     47\u001b[0m     \u001b[0mds\u001b[0m\u001b[0;34m.\u001b[0m\u001b[0madd_field\u001b[0m\u001b[0;34m(\u001b[0m\u001b[0;34m(\u001b[0m\u001b[0;34m\"iron_clumps\"\u001b[0m\u001b[0;34m,\u001b[0m \u001b[0;34m\"X_fe\"\u001b[0m\u001b[0;34m)\u001b[0m\u001b[0;34m,\u001b[0m \u001b[0mfunction\u001b[0m \u001b[0;34m=\u001b[0m \u001b[0mX_iron\u001b[0m\u001b[0;34m,\u001b[0m \u001b[0msampling_type\u001b[0m \u001b[0;34m=\u001b[0m \u001b[0;34m\"particle\"\u001b[0m\u001b[0;34m,\u001b[0m \u001b[0munits\u001b[0m \u001b[0;34m=\u001b[0m \u001b[0;34m'dimensionless'\u001b[0m\u001b[0;34m)\u001b[0m\u001b[0;34m\u001b[0m\u001b[0;34m\u001b[0m\u001b[0m\n\u001b[1;32m     48\u001b[0m \u001b[0;34m\u001b[0m\u001b[0m\n\u001b[0;32m---> 49\u001b[0;31m     \u001b[0mds\u001b[0m\u001b[0;34m.\u001b[0m\u001b[0madd_nearest_neighbor_field\u001b[0m\u001b[0;34m(\u001b[0m\u001b[0;34m(\u001b[0m\u001b[0;34m\"iron_clumps\"\u001b[0m\u001b[0;34m,\u001b[0m \u001b[0;34m\"X_fe\"\u001b[0m\u001b[0;34m)\u001b[0m\u001b[0;34m,\u001b[0m \u001b[0mkernel_name\u001b[0m \u001b[0;34m=\u001b[0m \u001b[0;34m\"quartic\"\u001b[0m\u001b[0;34m,\u001b[0m \u001b[0mmethod\u001b[0m \u001b[0;34m=\u001b[0m \u001b[0;34m\"volume_weighted\"\u001b[0m\u001b[0;34m)\u001b[0m\u001b[0;34m\u001b[0m\u001b[0;34m\u001b[0m\u001b[0m\n\u001b[0m\u001b[1;32m     50\u001b[0m \u001b[0;34m\u001b[0m\u001b[0m\n\u001b[1;32m     51\u001b[0m \u001b[0;34m\u001b[0m\u001b[0m\n",
      "\u001b[0;31mAttributeError\u001b[0m: 'FLASHDataset' object has no attribute 'add_nearest_neighbor_field'"
     ]
    }
   ],
   "source": [
    "import yt\n",
    "import glob\n",
    "from unyt import unyt_array\n",
    "import matplotlib.pyplot as plt\n",
    "import numpy as np\n",
    "import pandas as pd\n",
    "\n",
    "cent = 2.5e8\n",
    "\n",
    "files = glob.glob (\"def_high_dens_hdf5_chk_000021\")\n",
    "files.sort()\n",
    "\n",
    "tag_file = pd.read_csv(\"p_tag_all.dat\", sep = \"\\s+\", usecols = [0, 1, 4], names = [\"p_tag\", \"Fe\", \"Cr\"])\n",
    "\n",
    "tags = tag_file[\"p_tag\"].to_numpy()\n",
    "\n",
    "def iron_clumps(pfilter,data):\n",
    "    p_tags = data[(pfilter.filtered_type, \"particle_tag\")]\n",
    "    clumps = np.in1d(p_tags, tags)\n",
    "    return yt.YTArray(clumps)\n",
    "    \n",
    "yt.add_particle_filter(\"iron_clumps\", function = iron_clumps, filtered_type = \"all\", requires = [\"particle_tag\"])\n",
    "\n",
    "for file in files:\n",
    "    ds = yt.load(file)\n",
    "    def binding_energy(field, data):\n",
    "        return(data[\"gas\", \"density\"] * \n",
    "               ((0.5 * ((data[(\"flash\", \"velx\")])**2 + (data[(\"flash\", \"vely\")])**2)) + \n",
    "                data[(\"flash\", \"eint\")] + data[(\"flash\", \"gpot\")]))\n",
    "\n",
    "    ds.add_field((\"flash\", \"bneg\"), \n",
    "                 function = binding_energy, \n",
    "                 sampling_type = \"cell\", \n",
    "                 units = \"erg/g\")\n",
    "    ds.add_particle_filter(\"iron_clumps\")\n",
    "    \n",
    "    def X_iron(field,data):\n",
    "        A = data[(\"iron_clumps\", \"particle_tag\")]\n",
    "        A = A.tolist()\n",
    "        filtered_p_tag = tag_file.loc[tag_file['p_tag'].isin(A)]\n",
    "        filtered_p_tag = filtered_p_tag.reset_index(drop = True)\n",
    "        filtered_p_tag = filtered_p_tag.iloc[[i for i, x in sorted(enumerate(filtered_p_tag['p_tag']), key=lambda x: A.index(x[1]))], :]\n",
    "        arr_x = filtered_p_tag[\"Fe\"].to_numpy()\n",
    "        X_fe = unyt_array(arr_x, \"dimensionless\")\n",
    "        return (X_fe)\n",
    "    \n",
    "    ds.add_field((\"iron_clumps\", \"X_fe\"), function = X_iron, sampling_type = \"particle\", units = 'dimensionless')\n",
    "    \n",
    "\n",
    "    \n",
    "    ad = ds.all_data()\n",
    "    box = ds.region(center = [cent,0,0], left_edge = [0,-2*cent,0], right_edge = [2*cent,2*cent,2*cent])\n",
    "    \n",
    "    for x in ds.derived_field_list:\n",
    "        print(x)\n",
    "    #print(len(ad['deposit', 'iron_clumps_nn_X_fe']))\n",
    "    #print(ad[\"unbound_particles\", \"X_fe\"])\n",
    "    \n",
    "    positive_binding_energy = ad.cut_region(['obj[\"flash\", \"bneg\"] > 1.0e17'])\n",
    "    negative_binding_energy = ad.cut_region(['obj[\"flash\", \"bneg\"] < -1.0e17'])\n",
    "    pos_bn_eg_without_fluff = positive_binding_energy.cut_region(['obj[\"gas\", \"density\"] > 1.0e-2'])\n",
    "    neg_bn_eg_without_fluff = negative_binding_energy.cut_region(['obj[\"gas\", \"density\"] > 1.0e-2'])\n",
    "    #bneg_new = ad.exclude_inside((\"flash\", \"bneg\"), -1.0e17, 1.0e17)\n",
    "    #bn_eg_without_fluff = bneg_new.exclude_below((\"gas\", \"density\"), 1.0e-2)\n",
    "    \n",
    "    #print(len(ds.r[('all', 'cell_gas_temperature')]))\n",
    "#    print((ad[('index', 'grid_indices')]))\n",
    "    \n",
    "    #slc3 = yt.SlicePlot(ds, 'theta', (\"flash\", \"dens\"), center=[cent,0,0])\n",
    "    #slc3.set_zlim((\"flash\",\"bneg\"), -1.0e24, 1.0e22)\n",
    "    #slc3.set_log((\"flash\",\"bneg\"), linthresh = 1.0e20)\n",
    "    #slc3.set_cmap (field = (\"flash\", \"bneg\"), cmap = \"inferno\")\n",
    "    #slc3.annotate_title(\"Specific Binding Energy Density\")#\n",
    "    #slc3.annotate_timestamp (corner='upper_right', draw_inset_box=True, redshift = False)\n",
    "    #slc3.annotate_contour(('deposit', 'iron_clumps_nn_X_fe'))\n",
    "#    slc3.annotate_contour((\"flash\", \"Cr_dens\"),levels = 1,take_log = False)\n",
    "    #slc3.set_width((2*cent, 4*cent))\n",
    "    #slc3.show()\n",
    "    #slc3.save(\"contour_plot_1_.png\")"
   ]
  },
  {
   "cell_type": "code",
   "execution_count": null,
   "id": "febf8262",
   "metadata": {},
   "outputs": [],
   "source": []
  }
 ],
 "metadata": {
  "kernelspec": {
   "display_name": "Python 3 (ipykernel)",
   "language": "python",
   "name": "python3"
  },
  "language_info": {
   "codemirror_mode": {
    "name": "ipython",
    "version": 3
   },
   "file_extension": ".py",
   "mimetype": "text/x-python",
   "name": "python",
   "nbconvert_exporter": "python",
   "pygments_lexer": "ipython3",
   "version": "3.7.16"
  }
 },
 "nbformat": 4,
 "nbformat_minor": 5
}
