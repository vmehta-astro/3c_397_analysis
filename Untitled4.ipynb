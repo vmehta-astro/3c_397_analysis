{
 "cells": [
  {
   "cell_type": "code",
   "execution_count": 4,
   "id": "c1913188",
   "metadata": {},
   "outputs": [
    {
     "name": "stdout",
     "output_type": "stream",
     "text": [
      "     p_tag            Fe            Ni            Mn            Cr  \\\n",
      "392   6487  3.512050e-23  1.002720e-23  1.476070e-19  3.814140e-18   \n",
      "462   6986  6.764940e-23  1.650990e-23  2.089290e-19  7.310800e-18   \n",
      "563   7298  2.751060e-23  1.033270e-23  1.117390e-19  2.962200e-18   \n",
      "713   7896  3.433060e-23  1.237780e-23  1.414110e-19  3.493990e-18   \n",
      "399   6529  1.321460e-22  1.570780e-23  3.924430e-19  1.314270e-17   \n",
      "..     ...           ...           ...           ...           ...   \n",
      "160   5220  6.869480e-01  2.605460e-01  3.722380e-02  7.321510e-03   \n",
      "316   5800  8.355900e-01  1.055590e-01  3.894680e-02  8.588700e-03   \n",
      "694   7815  1.588440e-24  2.613880e-24  1.378190e-24  1.615770e-26   \n",
      "29    2090  6.796890e-01  2.716950e-01  3.400800e-02  6.854480e-03   \n",
      "945   9493  1.502340e-24  2.556520e-24  1.392620e-24  1.511630e-26   \n",
      "\n",
      "             Cr/Fe  \n",
      "392  108601.529022  \n",
      "462  108068.955527  \n",
      "563  107674.859872  \n",
      "713  101774.801489  \n",
      "399   99455.904833  \n",
      "..             ...  \n",
      "160       0.010658  \n",
      "316       0.010279  \n",
      "694       0.010172  \n",
      "29        0.010085  \n",
      "945       0.010062  \n",
      "\n",
      "[426 rows x 6 columns]\n",
      "     p_tag            Fe            Ni            Mn            Cr  \\\n",
      "392   6487  3.512050e-23  1.002720e-23  1.476070e-19  3.814140e-18   \n",
      "462   6986  6.764940e-23  1.650990e-23  2.089290e-19  7.310800e-18   \n",
      "563   7298  2.751060e-23  1.033270e-23  1.117390e-19  2.962200e-18   \n",
      "713   7896  3.433060e-23  1.237780e-23  1.414110e-19  3.493990e-18   \n",
      "399   6529  1.321460e-22  1.570780e-23  3.924430e-19  1.314270e-17   \n",
      "..     ...           ...           ...           ...           ...   \n",
      "244   5578  7.932420e-01  1.943420e-01  1.206480e-02  4.851690e-04   \n",
      "259   5651  8.850690e-01  1.053480e-01  9.076310e-03  5.389930e-04   \n",
      "251   5617  8.482760e-01  1.444790e-01  6.976740e-03  2.347810e-04   \n",
      "264   5659  8.500030e-01  1.432310e-01  6.513000e-03  2.084220e-04   \n",
      "281   5707  8.573220e-01  1.389130e-01  3.621110e-03  8.838020e-05   \n",
      "\n",
      "             Cr/Fe  \n",
      "392  108601.529022  \n",
      "462  108068.955527  \n",
      "563  107674.859872  \n",
      "713  101774.801489  \n",
      "399   99455.904833  \n",
      "..             ...  \n",
      "244       0.000612  \n",
      "259       0.000609  \n",
      "251       0.000277  \n",
      "264       0.000245  \n",
      "281       0.000103  \n",
      "\n",
      "[1175 rows x 6 columns]\n"
     ]
    }
   ],
   "source": [
    "import pandas as pd\n",
    "import numpy as np\n",
    "import matplotlib.pyplot as plt\n",
    "\n",
    "\n",
    "file = (\"../HIGH_DEN_DEF_21/part_IGEs_Z_3p0.dat\")\n",
    "#print(file)\n",
    "\n",
    "data = pd.read_csv(file, \n",
    "                   sep = \"\\s+\", \n",
    "                   usecols = [0, 1, 2, 3, 4], \n",
    "                   names= [\"p_tag\", \"Fe\", \"Ni\", \"Mn\", \"Cr\"])\n",
    "data.sort_values(\"Fe\", ascending = False, inplace = True)\n",
    "#data = data[data[\"Fe\"] >= 1.0e-2]\n",
    "\n",
    "#data.to_csv(\"p_tag.dat\", sep = \" \", header = False, index = False)\n",
    "#fractions = sum(data['Fe'][:830])/(data[\"Fe\"].sum())\n",
    "Z = data[\"Cr\"]/ data[\"Fe\"]\n",
    "data = pd.concat([data,Z], axis = 1, join = \"inner\")\n",
    "data = data.rename(columns = {0 : \"Cr/Fe\"})\n",
    "data.sort_values(\"Cr/Fe\", ascending = False, inplace = True)\n",
    "fractions = sum(data['Cr/Fe'])/(data[\"Cr/Fe\"].sum())\n",
    "#print(fractions)\n",
    "print(data[data['Cr']/data['Fe'] >=1.0e-2])\n",
    "print(data)"
   ]
  },
  {
   "cell_type": "code",
   "execution_count": 5,
   "id": "c10e6fd2",
   "metadata": {},
   "outputs": [],
   "source": [
    "data.to_csv(\"p_tag_HCD_PD_Z_3p0.dat\", sep = \" \", header = False, index = False)"
   ]
  },
  {
   "cell_type": "code",
   "execution_count": null,
   "id": "38dd1bdf",
   "metadata": {},
   "outputs": [],
   "source": [
    "plt.figure(figsize = (10,6), facecolor = \"w\")\n",
    "plt.scatter(data[\"p_tag\"], data[\"Fe\"], color = \"red\", s = 5, label = \"Fe\")\n",
    "plt.scatter(data[\"p_tag\"], data[\"Ni\"], color = \"green\", s = 5, label = \"Ni\")\n",
    "plt.scatter(data[\"p_tag\"], data[\"Mn\"], color = \"blue\", s = 5, label = \"Mn\")\n",
    "plt.scatter(data[\"p_tag\"], data[\"Cr\"], color = \"black\", s = 5, label = \"Cr\")\n",
    "plt.ylim(1.0e-3, 10)\n",
    "plt.yscale(\"log\")\n",
    "plt.legend(loc = 'upper right')\n",
    "plt.show()"
   ]
  },
  {
   "cell_type": "code",
   "execution_count": null,
   "id": "d8a9e00e",
   "metadata": {},
   "outputs": [],
   "source": [
    "import pandas as pd\n",
    "\n",
    "# Define the array A\n",
    "A = [45, 556, 2, 67, 9956, 356]\n",
    "\n",
    "# Define the data frame with two columns, one of which has same elements as array A but in different order\n",
    "df = pd.DataFrame({'col1': [9956, 2, 67, 45, 356, 556], 'col2': ['a', 'b', 'c', 'd', 'e', 'f']})\n",
    "\n",
    "# Sort the data frame based on the index of the elements in array A\n",
    "df = df.iloc[[i for i, x in sorted(enumerate(df['col1']), key=lambda x: A.index(x[1]))], :]\n",
    "\n",
    "# Print the sorted data frame\n",
    "print(df)"
   ]
  },
  {
   "cell_type": "code",
   "execution_count": null,
   "id": "031536eb",
   "metadata": {},
   "outputs": [],
   "source": []
  },
  {
   "cell_type": "code",
   "execution_count": null,
   "id": "bd94f37e",
   "metadata": {},
   "outputs": [],
   "source": []
  }
 ],
 "metadata": {
  "kernelspec": {
   "display_name": "Python 3 (ipykernel)",
   "language": "python",
   "name": "python3"
  },
  "language_info": {
   "codemirror_mode": {
    "name": "ipython",
    "version": 3
   },
   "file_extension": ".py",
   "mimetype": "text/x-python",
   "name": "python",
   "nbconvert_exporter": "python",
   "pygments_lexer": "ipython3",
   "version": "3.7.12"
  }
 },
 "nbformat": 4,
 "nbformat_minor": 5
}
